{
  "nbformat": 4,
  "nbformat_minor": 0,
  "metadata": {
    "colab": {
      "provenance": [],
      "gpuType": "V28",
      "authorship_tag": "ABX9TyOlojGpUGy5/6wS25Z9o+fi",
      "include_colab_link": true
    },
    "kernelspec": {
      "name": "python3",
      "display_name": "Python 3"
    },
    "language_info": {
      "name": "python"
    },
    "accelerator": "TPU"
  },
  "cells": [
    {
      "cell_type": "markdown",
      "metadata": {
        "id": "view-in-github",
        "colab_type": "text"
      },
      "source": [
        "<a href=\"https://colab.research.google.com/github/diablaxus/Red-Neuronal-Multicapa/blob/main/MulticapaPyTorch2.ipynb\" target=\"_parent\"><img src=\"https://colab.research.google.com/assets/colab-badge.svg\" alt=\"Open In Colab\"/></a>"
      ]
    },
    {
      "cell_type": "code",
      "execution_count": 2,
      "metadata": {
        "colab": {
          "base_uri": "https://localhost:8080/"
        },
        "id": "fedwJFCqDqDX",
        "outputId": "6d33bb09-0d30-4fa6-94f9-166f7bac77ff"
      },
      "outputs": [
        {
          "output_type": "stream",
          "name": "stdout",
          "text": [
            "Epoch [1/10], Loss: 0.2364\n",
            "Epoch [2/10], Loss: 0.0780\n",
            "Epoch [3/10], Loss: 0.2126\n",
            "Epoch [4/10], Loss: 0.0223\n",
            "Epoch [5/10], Loss: 0.0256\n",
            "Epoch [6/10], Loss: 0.0164\n",
            "Epoch [7/10], Loss: 0.0443\n",
            "Epoch [8/10], Loss: 0.0062\n",
            "Epoch [9/10], Loss: 0.0247\n",
            "Epoch [10/10], Loss: 0.0025\n",
            "Precisión en el conjunto de prueba: 97.13%\n"
          ]
        }
      ],
      "source": [
        "# Ejercicio 2: Red Neuronal Multicapa en PyTorch para un problema de clasificación\n",
        "\n",
        "# Paso 1: Importar las bibliotecas necesarias\n",
        "import torch\n",
        "import torch.nn as nn\n",
        "import torch.optim as optim\n",
        "from torch.utils.data import DataLoader\n",
        "from torchvision import datasets, transforms\n",
        "\n",
        "# Paso 2: Definir los hiperparámetros\n",
        "input_size = 784  # 28x28 imágenes de MNIST aplanadas\n",
        "hidden_size = 128  # Número de neuronas en la capa oculta\n",
        "num_classes = 10  # MNIST tiene 10 clases (dígitos 0-9)\n",
        "batch_size = 64  # Tamaño del lote\n",
        "learning_rate = 0.001  # Tasa de aprendizaje para Adam\n",
        "num_epochs = 10  # Número de épocas\n",
        "\n",
        "# Paso 3: Descargar y cargar el conjunto de datos MNIST\n",
        "# Definir transformaciones: convertir imágenes a tensores y normalizar valores de píxeles\n",
        "transform = transforms.Compose([transforms.ToTensor(),\n",
        "                                 transforms.Normalize((0.5,), (0.5,))])  # Normalizar entre -1 y 1\n",
        "\n",
        "# Cargar el conjunto de datos MNIST\n",
        "train_dataset = datasets.MNIST(root='./data', train=True, transform=transform, download=True)\n",
        "test_dataset = datasets.MNIST(root='./data', train=False, transform=transform, download=True)\n",
        "\n",
        "# Crea un iterador para cargar datos en lotes\n",
        "train_loader = DataLoader(dataset=train_dataset, batch_size=batch_size, shuffle=True)\n",
        "test_loader = DataLoader(dataset=test_dataset, batch_size=batch_size, shuffle=False)\n",
        "\n",
        "# Paso 4: Definir el modelo de red neuronal\n",
        "class NeuralNet(nn.Module):\n",
        "    def __init__(self, input_size, hidden_size, num_classes):\n",
        "        super(NeuralNet, self).__init__()\n",
        "        self.fc1 = nn.Linear(input_size, hidden_size)  # Capa densa 1: entrada -> 128 neuronas ocultas\n",
        "        self.relu = nn.ReLU()  # Función de activación ReLU\n",
        "        self.fc2 = nn.Linear(hidden_size, num_classes)  # Capa densa 2: 128 -> 10 salidas (dígitos)\n",
        "\n",
        "    def forward(self, x):\n",
        "        x = x.view(-1, input_size)  # Aplanar la imagen de 28x28 a 784\n",
        "        x = self.fc1(x)  # Paso por la primera capa densa\n",
        "        x = self.relu(x)  # Aplicar ReLU\n",
        "        x = self.fc2(x)  # Paso por la segunda capa densa (capa de salida)\n",
        "        return x\n",
        "\n",
        "# Crear una instancia del modelo\n",
        "model = NeuralNet(input_size, hidden_size, num_classes)\n",
        "\n",
        "# Paso 5: Definir la función de pérdida y el optimizador\n",
        "criterion = nn.CrossEntropyLoss()  # Entropía cruzada\n",
        "optimizer = optim.Adam(model.parameters(), lr=learning_rate)  # Optimizer Adam\n",
        "\n",
        "# Paso 6: Entrenar el modelo\n",
        "for epoch in range(num_epochs):\n",
        "    for images, labels in train_loader:\n",
        "        # Pasa las imágenes a través del modelo\n",
        "        outputs = model(images)\n",
        "\n",
        "        # Calcula la pérdida\n",
        "        loss = criterion(outputs, labels)\n",
        "\n",
        "        # Limpia los gradientes acumulados\n",
        "        optimizer.zero_grad()\n",
        "\n",
        "        # Calcula los gradientes de la pérdida\n",
        "        loss.backward()\n",
        "\n",
        "        # Actualiza los parámetros del modelo\n",
        "        optimizer.step()\n",
        "\n",
        "    print(f'Epoch [{epoch+1}/{num_epochs}], Loss: {loss.item():.4f}')\n",
        "\n",
        "# Paso 7: Evaluar el modelo\n",
        "model.eval()  # Cambiar el modelo al modo de evaluación\n",
        "with torch.no_grad():  # Desactivar el cálculo de gradientes\n",
        "    correct = 0\n",
        "    total = 0\n",
        "    for images, labels in test_loader:\n",
        "        outputs = model(images)\n",
        "        _, predicted = torch.max(outputs.data, 1)  # Obtener la clase con mayor probabilidad\n",
        "        total += labels.size(0)\n",
        "        correct += (predicted == labels).sum().item()\n",
        "\n",
        "    print(f'Precisión en el conjunto de prueba: {100 * correct / total:.2f}%')\n"
      ]
    }
  ]
}